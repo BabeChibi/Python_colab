{
  "nbformat": 4,
  "nbformat_minor": 0,
  "metadata": {
    "colab": {
      "name": "Preprocessing_data.ipynb",
      "provenance": [],
      "authorship_tag": "ABX9TyMX6AgOVF9MEF4xQZ9annDl",
      "include_colab_link": true
    },
    "kernelspec": {
      "name": "python3",
      "display_name": "Python 3"
    },
    "language_info": {
      "name": "python"
    }
  },
  "cells": [
    {
      "cell_type": "markdown",
      "metadata": {
        "id": "view-in-github",
        "colab_type": "text"
      },
      "source": [
        "<a href=\"https://colab.research.google.com/github/BabeChibi/Python_colab/blob/main/Preprocessing_data.ipynb\" target=\"_parent\"><img src=\"https://colab.research.google.com/assets/colab-badge.svg\" alt=\"Open In Colab\"/></a>"
      ]
    },
    {
      "cell_type": "markdown",
      "metadata": {
        "id": "VnUTBcfPLe_6"
      },
      "source": [
        "//21 maret 2021\n",
        "//A11_2018_10844"
      ]
    },
    {
      "cell_type": "code",
      "metadata": {
        "id": "zR2NOxn77I6m"
      },
      "source": [
        "import numpy as np\n",
        "import matplotlib.pyplot as plt\n",
        "import pandas as pd\n"
      ],
      "execution_count": 1,
      "outputs": []
    },
    {
      "cell_type": "markdown",
      "metadata": {
        "id": "_aZyiFSs9mLZ"
      },
      "source": [
        "numpy use comp matriks. matplotlib use grafic"
      ]
    },
    {
      "cell_type": "code",
      "metadata": {
        "id": "7t72cBtl9xN5"
      },
      "source": [
        "dataset = pd.read_csv('Data.csv')\n",
        "x = dataset.iloc[:,:-1].values\n",
        "y = dataset.iloc[:,-1].values"
      ],
      "execution_count": 40,
      "outputs": []
    },
    {
      "cell_type": "markdown",
      "metadata": {
        "id": "gTVhh7zg_EGO"
      },
      "source": [
        "pd.read_csv call data session. iloc call record values. + get first record - get last record"
      ]
    },
    {
      "cell_type": "code",
      "metadata": {
        "colab": {
          "base_uri": "https://localhost:8080/"
        },
        "id": "5xAxE_YO_Q5j",
        "outputId": "3e4f1454-feff-4338-97a3-5919401111f9"
      },
      "source": [
        "print(x)"
      ],
      "execution_count": 41,
      "outputs": [
        {
          "output_type": "stream",
          "text": [
            "[['France' 44.0 72000.0 2000.0]\n",
            " ['Spain' 27.0 48000.0 3000.0]\n",
            " ['Germany' 30.0 54000.0 4000.0]\n",
            " ['Spain' 38.0 61000.0 nan]\n",
            " ['Germany' 40.0 nan 10000.0]\n",
            " ['France' 35.0 58000.0 20000.0]\n",
            " ['Spain' nan 52000.0 3000.0]\n",
            " ['France' 48.0 79000.0 5000.0]\n",
            " ['Germany' 50.0 83000.0 60000.0]\n",
            " ['France' 37.0 67000.0 80000.0]]\n"
          ],
          "name": "stdout"
        }
      ]
    },
    {
      "cell_type": "code",
      "metadata": {
        "colab": {
          "base_uri": "https://localhost:8080/"
        },
        "id": "RJ1QXaB4AN2q",
        "outputId": "d509695e-3228-4be0-9204-a6d1389c0852"
      },
      "source": [
        "print(y)"
      ],
      "execution_count": 42,
      "outputs": [
        {
          "output_type": "stream",
          "text": [
            "['No' 'Yes' 'No' 'No' 'Yes' 'Yes' 'No' 'Yes' 'No' 'Yes']\n"
          ],
          "name": "stdout"
        }
      ]
    },
    {
      "cell_type": "code",
      "metadata": {
        "id": "RVB2rYIuBPYY"
      },
      "source": [
        "from sklearn.impute import SimpleImputer\n",
        "imputer = SimpleImputer(missing_values = np.nan, strategy = 'mean')\n",
        "imputer.fit(x[:,1:4])\n",
        "x[:,1:4] = imputer.transform(x[:,1:4])"
      ],
      "execution_count": 43,
      "outputs": []
    },
    {
      "cell_type": "code",
      "metadata": {
        "colab": {
          "base_uri": "https://localhost:8080/"
        },
        "id": "oPHqS0BOB17M",
        "outputId": "91d73d4c-b314-46ce-b5b3-83f5aa637835"
      },
      "source": [
        "print(x)"
      ],
      "execution_count": 44,
      "outputs": [
        {
          "output_type": "stream",
          "text": [
            "[['France' 44.0 72000.0 2000.0]\n",
            " ['Spain' 27.0 48000.0 3000.0]\n",
            " ['Germany' 30.0 54000.0 4000.0]\n",
            " ['Spain' 38.0 61000.0 20777.777777777777]\n",
            " ['Germany' 40.0 63777.77777777778 10000.0]\n",
            " ['France' 35.0 58000.0 20000.0]\n",
            " ['Spain' 38.77777777777778 52000.0 3000.0]\n",
            " ['France' 48.0 79000.0 5000.0]\n",
            " ['Germany' 50.0 83000.0 60000.0]\n",
            " ['France' 37.0 67000.0 80000.0]]\n"
          ],
          "name": "stdout"
        }
      ]
    },
    {
      "cell_type": "code",
      "metadata": {
        "id": "x2AF4qj4DEhV"
      },
      "source": [
        "from sklearn.compose import ColumnTransformer\n",
        "from sklearn.preprocessing import OneHotEncoder\n",
        "ct = ColumnTransformer(transformers = [('encoder',OneHotEncoder(),[0])],remainder='passthrough')\n",
        "x = np.array(ct.fit_transform(x))"
      ],
      "execution_count": 45,
      "outputs": []
    },
    {
      "cell_type": "code",
      "metadata": {
        "colab": {
          "base_uri": "https://localhost:8080/"
        },
        "id": "WjUFPhDjEZjG",
        "outputId": "5e1bf249-aab2-414a-c7be-f9ccb4ae752c"
      },
      "source": [
        "print(x)"
      ],
      "execution_count": 46,
      "outputs": [
        {
          "output_type": "stream",
          "text": [
            "[[1.0 0.0 0.0 44.0 72000.0 2000.0]\n",
            " [0.0 0.0 1.0 27.0 48000.0 3000.0]\n",
            " [0.0 1.0 0.0 30.0 54000.0 4000.0]\n",
            " [0.0 0.0 1.0 38.0 61000.0 20777.777777777777]\n",
            " [0.0 1.0 0.0 40.0 63777.77777777778 10000.0]\n",
            " [1.0 0.0 0.0 35.0 58000.0 20000.0]\n",
            " [0.0 0.0 1.0 38.77777777777778 52000.0 3000.0]\n",
            " [1.0 0.0 0.0 48.0 79000.0 5000.0]\n",
            " [0.0 1.0 0.0 50.0 83000.0 60000.0]\n",
            " [1.0 0.0 0.0 37.0 67000.0 80000.0]]\n"
          ],
          "name": "stdout"
        }
      ]
    },
    {
      "cell_type": "code",
      "metadata": {
        "id": "ye1xxOjGEwCj"
      },
      "source": [
        "from sklearn.preprocessing import LabelEncoder\n",
        "le = LabelEncoder()\n",
        "y = le.fit_transform(y)"
      ],
      "execution_count": 47,
      "outputs": []
    },
    {
      "cell_type": "code",
      "metadata": {
        "colab": {
          "base_uri": "https://localhost:8080/"
        },
        "id": "5x3xiZD_FBlM",
        "outputId": "d30e4232-830c-4d01-835a-0ca659746125"
      },
      "source": [
        "print(y)"
      ],
      "execution_count": 48,
      "outputs": [
        {
          "output_type": "stream",
          "text": [
            "[0 1 0 0 1 1 0 1 0 1]\n"
          ],
          "name": "stdout"
        }
      ]
    },
    {
      "cell_type": "code",
      "metadata": {
        "id": "LZfLGG7bGiCq"
      },
      "source": [
        "from sklearn.model_selection import train_test_split\n",
        "x_train,x_test,y_train,y_test = train_test_split(x,y,test_size = 0.2, random_state = 1)"
      ],
      "execution_count": 49,
      "outputs": []
    },
    {
      "cell_type": "code",
      "metadata": {
        "colab": {
          "base_uri": "https://localhost:8080/"
        },
        "id": "qSSn66rLG5oW",
        "outputId": "2738b610-fe2c-4581-a980-67b3e9b0c6e4"
      },
      "source": [
        "print(x_train)"
      ],
      "execution_count": 50,
      "outputs": [
        {
          "output_type": "stream",
          "text": [
            "[[0.0 0.0 1.0 38.77777777777778 52000.0 3000.0]\n",
            " [0.0 1.0 0.0 40.0 63777.77777777778 10000.0]\n",
            " [1.0 0.0 0.0 44.0 72000.0 2000.0]\n",
            " [0.0 0.0 1.0 38.0 61000.0 20777.777777777777]\n",
            " [0.0 0.0 1.0 27.0 48000.0 3000.0]\n",
            " [1.0 0.0 0.0 48.0 79000.0 5000.0]\n",
            " [0.0 1.0 0.0 50.0 83000.0 60000.0]\n",
            " [1.0 0.0 0.0 35.0 58000.0 20000.0]]\n"
          ],
          "name": "stdout"
        }
      ]
    },
    {
      "cell_type": "code",
      "metadata": {
        "colab": {
          "base_uri": "https://localhost:8080/"
        },
        "id": "MRYYjHvQHTgk",
        "outputId": "c02ba4aa-a252-4f6e-bf63-3ef45cf39708"
      },
      "source": [
        "print(x_test)"
      ],
      "execution_count": 51,
      "outputs": [
        {
          "output_type": "stream",
          "text": [
            "[[0.0 1.0 0.0 30.0 54000.0 4000.0]\n",
            " [1.0 0.0 0.0 37.0 67000.0 80000.0]]\n"
          ],
          "name": "stdout"
        }
      ]
    },
    {
      "cell_type": "code",
      "metadata": {
        "id": "XnxewfUNI7Zi"
      },
      "source": [
        "from sklearn.preprocessing import StandardScaler\n",
        "sc = StandardScaler()\n",
        "x_train[:,4:] = sc.fit_transform(x_train[:,4:])\n",
        "x_test[:,4:] = sc.transform(x_test[:,4:])"
      ],
      "execution_count": 52,
      "outputs": []
    },
    {
      "cell_type": "code",
      "metadata": {
        "colab": {
          "base_uri": "https://localhost:8080/"
        },
        "id": "jBn-SxDQJdTK",
        "outputId": "4928082a-2ac5-410c-8126-016784860acc"
      },
      "source": [
        "print(x_train)"
      ],
      "execution_count": 53,
      "outputs": [
        {
          "output_type": "stream",
          "text": [
            "[[0.0 0.0 1.0 38.77777777777778 -1.0781259408412425 -0.6835250436076243]\n",
            " [0.0 1.0 0.0 40.0 -0.07013167641635372 -0.29989851579220933]\n",
            " [1.0 0.0 0.0 44.0 0.633562432710455 -0.7383288332955408]\n",
            " [0.0 0.0 1.0 38.0 -0.30786617274297867 0.2907645508442232]\n",
            " [0.0 0.0 1.0 27.0 -1.420463615551582 -0.6835250436076243]\n",
            " [1.0 0.0 0.0 48.0 1.232653363453549 -0.5739174642317915]\n",
            " [0.0 1.0 0.0 50.0 1.5749910381638885 2.440290968603612]\n",
            " [1.0 0.0 0.0 35.0 -0.5646194287757332 0.2481393810869549]]\n"
          ],
          "name": "stdout"
        }
      ]
    },
    {
      "cell_type": "code",
      "metadata": {
        "colab": {
          "base_uri": "https://localhost:8080/"
        },
        "id": "9rnhGN1LJv7d",
        "outputId": "d3f36a54-0bc0-4bc4-8d45-c87699ded955"
      },
      "source": [
        "print(x_test)"
      ],
      "execution_count": 54,
      "outputs": [
        {
          "output_type": "stream",
          "text": [
            "[[0.0 1.0 0.0 30.0 -0.9069571034860727 -0.6287212539197079]\n",
            " [1.0 0.0 0.0 37.0 0.2056403393225306 3.536366762361941]]\n"
          ],
          "name": "stdout"
        }
      ]
    }
  ]
}