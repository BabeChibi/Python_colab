{
  "nbformat": 4,
  "nbformat_minor": 0,
  "metadata": {
    "colab": {
      "name": "data_mining_klasifikasi_naivebayes.ipynb",
      "provenance": [],
      "authorship_tag": "ABX9TyPfGqTyCAxoErSwHUK46A1Z",
      "include_colab_link": true
    },
    "kernelspec": {
      "name": "python3",
      "display_name": "Python 3"
    },
    "language_info": {
      "name": "python"
    }
  },
  "cells": [
    {
      "cell_type": "markdown",
      "metadata": {
        "id": "view-in-github",
        "colab_type": "text"
      },
      "source": [
        "<a href=\"https://colab.research.google.com/github/BabeChibi/Python_colab/blob/main/data_mining_klasifikasi_naivebayes.ipynb\" target=\"_parent\"><img src=\"https://colab.research.google.com/assets/colab-badge.svg\" alt=\"Open In Colab\"/></a>"
      ]
    },
    {
      "cell_type": "markdown",
      "metadata": {
        "id": "XtSQ1nO5VMd8"
      },
      "source": [
        "klasifikasi data kinerja pegawai berdasarakan pemasukan bulanan dan pengeluaran dan waktu"
      ]
    },
    {
      "cell_type": "code",
      "metadata": {
        "id": "Axp1DjkqTDDp"
      },
      "source": [
        "import numpy as np\n",
        "import matplotlib.pyplot as plt\n",
        "import pandas as pd\n"
      ],
      "execution_count": 1,
      "outputs": []
    },
    {
      "cell_type": "code",
      "metadata": {
        "id": "EEH-VH6mTYgA"
      },
      "source": [
        "data_set = pd.read_csv('employee_attrition_train.csv')\n",
        "x = data_set.iloc[:,18:20].values\n",
        "y = data_set.iloc[:,-13].values"
      ],
      "execution_count": 62,
      "outputs": []
    },
    {
      "cell_type": "code",
      "metadata": {
        "colab": {
          "base_uri": "https://localhost:8080/"
        },
        "id": "syDImsrZVAlJ",
        "outputId": "f9ef249f-8e8d-479b-9dbe-d0b432f58090"
      },
      "source": [
        "print(x)"
      ],
      "execution_count": 52,
      "outputs": [
        {
          "output_type": "stream",
          "text": [
            "[[17399  6615]\n",
            " [ 4941  2819]\n",
            " [ 2679  4567]\n",
            " ...\n",
            " [ 2853  4223]\n",
            " [ 4025 23679]\n",
            " [19331 19519]]\n"
          ],
          "name": "stdout"
        }
      ]
    },
    {
      "cell_type": "code",
      "metadata": {
        "colab": {
          "base_uri": "https://localhost:8080/"
        },
        "id": "Zsdth5I4VJTi",
        "outputId": "15a37e5a-876f-42e7-db4d-f74259ae8f12"
      },
      "source": [
        "print(y)"
      ],
      "execution_count": 63,
      "outputs": [
        {
          "output_type": "stream",
          "text": [
            "['No' 'No' 'No' ... 'Yes' 'Yes' 'Yes']\n"
          ],
          "name": "stdout"
        }
      ]
    },
    {
      "cell_type": "code",
      "metadata": {
        "id": "uvlpPCX2fpe0"
      },
      "source": [
        "from sklearn.preprocessing import LabelEncoder\n",
        "le = LabelEncoder()\n",
        "y = le.fit_transform(y)"
      ],
      "execution_count": 64,
      "outputs": []
    },
    {
      "cell_type": "code",
      "metadata": {
        "colab": {
          "base_uri": "https://localhost:8080/"
        },
        "id": "0CoTAWlNgITp",
        "outputId": "04ad9815-d533-48ea-e9a8-98b50dc476cf"
      },
      "source": [
        "print(y)"
      ],
      "execution_count": 65,
      "outputs": [
        {
          "output_type": "stream",
          "text": [
            "[0 0 0 ... 1 1 1]\n"
          ],
          "name": "stdout"
        }
      ]
    },
    {
      "cell_type": "code",
      "metadata": {
        "id": "VUf5UYs2VZEx"
      },
      "source": [
        "from sklearn.model_selection import  train_test_split\n",
        "x_train, x_test, y_train, y_test = train_test_split(x,y,test_size=0.25,random_state=0)"
      ],
      "execution_count": 66,
      "outputs": []
    },
    {
      "cell_type": "code",
      "metadata": {
        "colab": {
          "base_uri": "https://localhost:8080/"
        },
        "id": "Dndp5xW3WLZX",
        "outputId": "c226c3b8-ec1c-4226-dba3-d2ca5ae19998"
      },
      "source": [
        "print(x_train)"
      ],
      "execution_count": 67,
      "outputs": [
        {
          "output_type": "stream",
          "text": [
            "[[18665 25594]\n",
            " [ 6825 21173]\n",
            " [ 5673  6060]\n",
            " ...\n",
            " [ 2144  2122]\n",
            " [ 2121  9947]\n",
            " [ 2400  5530]]\n"
          ],
          "name": "stdout"
        }
      ]
    },
    {
      "cell_type": "code",
      "metadata": {
        "colab": {
          "base_uri": "https://localhost:8080/"
        },
        "id": "iTAdt8aBWQ5X",
        "outputId": "ca9a9618-516f-4853-dc31-e6a584ce8db8"
      },
      "source": [
        "print(x_test)"
      ],
      "execution_count": 68,
      "outputs": [
        {
          "output_type": "stream",
          "text": [
            "[[ 2983 18398]\n",
            " [ 5238  6670]\n",
            " [10883 20467]\n",
            " [ 4051 19658]\n",
            " [ 1118  8040]\n",
            " [ 6347 13982]\n",
            " [13269 21981]\n",
            " [ 2501 18775]\n",
            " [ 4941  2819]\n",
            " [14852 13938]\n",
            " [ 6447 15701]\n",
            " [ 2086  3335]\n",
            " [ 2302  8319]\n",
            " [ 3420 10205]\n",
            " [13191 23281]\n",
            " [ 3149 21821]\n",
            " [ 2728 21082]\n",
            " [ 6577 19558]\n",
            " [19845 25846]\n",
            " [ 1878  8059]\n",
            " [ 2756  4673]\n",
            " [10965 12066]\n",
            " [ 1904 13556]\n",
            " [ 5811 24539]\n",
            " [10739 13943]\n",
            " [ 5666 19899]\n",
            " [ 2691  7660]\n",
            " [10934 20715]\n",
            " [ 2379 19826]\n",
            " [ 9714  5323]\n",
            " [ 4969 21813]\n",
            " [10761 19239]\n",
            " [ 4148 11275]\n",
            " [ 2313  2993]\n",
            " [ 2713  6672]\n",
            " [ 2362  7568]\n",
            " [ 6586  4821]\n",
            " [ 4377 24117]\n",
            " [ 2277 22650]\n",
            " [ 5562 21782]\n",
            " [ 6244  7824]\n",
            " [ 2936  6161]\n",
            " [ 5486 24795]\n",
            " [ 2809  2725]\n",
            " [ 8853 24483]\n",
            " [ 2404  4303]\n",
            " [ 2413 18798]\n",
            " [ 4908 24252]\n",
            " [ 2342 11092]\n",
            " [ 6091 24793]\n",
            " [ 4487 12090]\n",
            " [ 5265 16439]\n",
            " [ 2194  5868]\n",
            " [ 2394 25681]\n",
            " [ 4614 23288]\n",
            " [ 2723 23231]\n",
            " [ 3968 13624]\n",
            " [ 3780 23428]\n",
            " [ 3833 24375]\n",
            " [ 4286  5630]\n",
            " [ 2422 25725]\n",
            " [ 8938 12227]\n",
            " [ 4262 22645]\n",
            " [ 2028 13637]\n",
            " [ 9525  7677]\n",
            " [ 2267 25657]\n",
            " [ 2070 25326]\n",
            " [ 4930 13970]\n",
            " [ 4400 15182]\n",
            " [ 3989 20586]\n",
            " [ 4599  7815]\n",
            " [ 2270 11005]\n",
            " [ 1052 23384]\n",
            " [ 2244 24440]\n",
            " [ 5855 17369]\n",
            " [ 6397 26767]\n",
            " [ 2994 21221]\n",
            " [ 2380 20165]\n",
            " [ 4851 15678]\n",
            " [ 2644 17001]\n",
            " [ 2632 23910]\n",
            " [ 4325 17736]\n",
            " [ 3067  6393]\n",
            " [ 2272 24812]\n",
            " [10435 25800]\n",
            " [ 2782 19905]\n",
            " [ 2380 25479]\n",
            " [10502  9659]\n",
            " [ 6146 15480]\n",
            " [ 2593  8007]\n",
            " [ 4465 12069]\n",
            " [ 3433 17360]\n",
            " [ 5067  6759]\n",
            " [ 3408  6705]\n",
            " [ 2297 17967]\n",
            " [ 2679  4567]\n",
            " [ 5736  3987]\n",
            " [ 2862  3811]\n",
            " [ 2532  6054]\n",
            " [ 5768 26493]\n",
            " [ 7457 13273]\n",
            " [ 4227  4658]\n",
            " [ 2372  5628]\n",
            " [10798  5268]\n",
            " [12061 26707]\n",
            " [ 2515  9068]\n",
            " [ 5237 16577]\n",
            " [13320 11737]\n",
            " [15787 21624]\n",
            " [10903  9129]\n",
            " [ 3172 16998]\n",
            " [ 6540 19394]\n",
            " [ 8823 24608]\n",
            " [ 2694 26551]\n",
            " [ 3312 18783]\n",
            " [ 2743  7331]\n",
            " [ 3445  6152]\n",
            " [ 3815  5972]\n",
            " [ 3038 12430]\n",
            " [ 4639 11262]\n",
            " [ 2911 14776]\n",
            " [ 6162 19124]\n",
            " [19701 22456]\n",
            " [ 5304 25275]\n",
            " [ 6696 22967]\n",
            " [ 9619 13596]\n",
            " [ 2176 19737]\n",
            " [17328  5652]\n",
            " [ 4668 22812]\n",
            " [13142 24439]\n",
            " [18844 21922]\n",
            " [ 4440  7636]\n",
            " [10239 18092]\n",
            " [ 4478  5242]\n",
            " [10306 21530]\n",
            " [ 2096 18830]\n",
            " [15202  5602]\n",
            " [ 5593 17970]\n",
            " [10685 23457]\n",
            " [ 6322 18089]\n",
            " [ 2657  7551]\n",
            " [12504 23978]\n",
            " [16328 22074]\n",
            " [15402 17997]\n",
            " [ 5769  7100]\n",
            " [ 4647 16673]\n",
            " [12185 10056]\n",
            " [ 3539  5033]\n",
            " [ 1569 18420]\n",
            " [ 2559  7508]\n",
            " [ 7525 23537]\n",
            " [ 6347 23177]\n",
            " [ 6385 12992]\n",
            " [ 4382 16374]\n",
            " [ 6380  6110]\n",
            " [ 4601  6179]\n",
            " [ 7779 23238]\n",
            " [ 5561  3487]\n",
            " [16032 24456]\n",
            " [ 2238  6961]\n",
            " [ 4907 24532]\n",
            " [18041 13022]\n",
            " [ 6632 12388]\n",
            " [ 5468 13402]\n",
            " [ 2976 25751]\n",
            " [ 4107 13848]\n",
            " [ 6132 13983]\n",
            " [16872 14977]\n",
            " [ 4035 16143]\n",
            " [ 9637  8277]\n",
            " [ 8392 19566]\n",
            " [ 2819  8544]\n",
            " [10673  3142]\n",
            " [ 2109 24609]\n",
            " [ 5993 19479]\n",
            " [ 9699  7246]\n",
            " [ 2024  5970]\n",
            " [ 6272 12858]\n",
            " [ 8268 11866]\n",
            " [ 4302 13401]\n",
            " [ 7510 16873]\n",
            " [19406  8509]\n",
            " [11994 21293]\n",
            " [ 3537 23737]\n",
            " [ 5021 10425]\n",
            " [ 2500 10515]\n",
            " [ 6833 17089]\n",
            " [ 3407 25348]\n",
            " [ 2033 14470]\n",
            " [ 3485 14935]\n",
            " [ 6347 24920]\n",
            " [ 4936 14862]\n",
            " [ 8161 19002]\n",
            " [19272 21141]\n",
            " [ 2678  5050]\n",
            " [ 7295 11439]\n",
            " [ 6861  4981]\n",
            " [13734  7192]\n",
            " [ 2811 12086]\n",
            " [ 2544  7102]\n",
            " [ 6812 17198]\n",
            " [ 3748  4077]\n",
            " [ 4103  4297]\n",
            " [16959 19494]\n",
            " [ 4568 10034]\n",
            " [ 5332 21602]\n",
            " [ 4661 22455]\n",
            " [ 4809 12482]\n",
            " [19038 19805]\n",
            " [ 5155  2253]\n",
            " [ 2867 20006]\n",
            " [ 2720 18959]\n",
            " [ 2119  4759]\n",
            " [ 3196 12449]\n",
            " [13610 24619]\n",
            " [ 5405  4244]\n",
            " [ 2073 12826]\n",
            " [ 3919  4681]\n",
            " [ 2231 11314]\n",
            " [11878 23364]\n",
            " [ 4900  2721]\n",
            " [17856  9490]\n",
            " [ 1611 19305]\n",
            " [ 2437 15587]\n",
            " [ 2089  5228]\n",
            " [ 2335  3157]\n",
            " [ 3298 15053]\n",
            " [ 5373  6225]\n",
            " [14732 12414]\n",
            " [ 5770  5388]\n",
            " [ 2929 20338]\n",
            " [ 3867 14222]\n",
            " [ 4556 12932]\n",
            " [18722 13339]\n",
            " [ 4717 18659]\n",
            " [19436  5949]\n",
            " [ 2972 22061]\n",
            " [14411 24450]\n",
            " [ 2596  7160]\n",
            " [13206  3376]\n",
            " [ 7005  3458]\n",
            " [ 2168 26933]\n",
            " [ 2886  3032]\n",
            " [ 2580  6297]\n",
            " [ 3697  9278]\n",
            " [ 5715 22553]\n",
            " [ 3291 17940]\n",
            " [ 2259  5543]\n",
            " [10008 12023]\n",
            " [16606 11380]\n",
            " [ 4108  5340]\n",
            " [19717  4022]\n",
            " [ 9924 12355]\n",
            " [ 6179 21057]\n",
            " [ 5762 24442]\n",
            " [ 2406  5456]\n",
            " [ 2662  7975]\n",
            " [ 6172 20739]]\n"
          ],
          "name": "stdout"
        }
      ]
    },
    {
      "cell_type": "code",
      "metadata": {
        "colab": {
          "base_uri": "https://localhost:8080/"
        },
        "id": "3k085pXcWW9W",
        "outputId": "632be124-544d-4b19-9651-608ea51c43ec"
      },
      "source": [
        "print(y_train)"
      ],
      "execution_count": 69,
      "outputs": [
        {
          "output_type": "stream",
          "text": [
            "[1 0 1 0 0 0 1 0 0 1 0 0 0 0 1 1 0 1 0 0 0 0 0 1 0 1 0 1 0 1 0 0 0 1 1 0 0\n",
            " 0 0 0 0 0 0 0 0 0 0 1 0 0 0 1 0 1 0 1 1 0 0 1 1 0 0 0 1 0 0 0 0 0 0 1 0 0\n",
            " 1 0 0 1 0 1 0 1 0 0 0 0 0 0 1 1 0 0 0 0 0 1 1 1 0 0 0 0 1 1 0 0 0 0 0 1 1\n",
            " 1 1 0 0 1 0 0 0 0 0 0 0 0 1 0 0 0 0 0 1 0 1 0 0 1 1 0 1 1 0 0 0 0 0 0 0 0\n",
            " 0 0 0 0 0 0 0 0 1 0 1 1 0 1 0 0 0 0 0 0 0 0 1 1 0 0 0 1 0 1 0 0 0 0 0 0 0\n",
            " 0 1 1 0 0 0 0 1 0 0 1 0 0 0 0 1 0 1 1 0 1 0 0 1 1 1 0 0 1 0 0 0 1 0 1 0 1\n",
            " 0 1 1 0 1 1 0 0 0 0 0 0 0 1 0 0 1 0 0 0 0 0 0 0 0 0 0 0 0 0 0 0 0 1 0 0 0\n",
            " 1 0 1 0 0 1 1 0 1 0 1 1 0 0 0 1 0 1 1 1 0 1 1 0 0 0 0 0 0 0 0 0 0 0 0 0 0\n",
            " 0 0 0 0 0 0 1 0 1 0 1 0 0 1 0 1 0 0 0 0 0 1 0 0 1 1 0 1 0 0 0 0 1 0 0 0 0\n",
            " 0 0 0 1 0 1 1 1 0 0 1 0 0 0 0 0 0 0 0 0 0 0 0 1 0 0 0 0 1 1 0 0 0 0 0 1 0\n",
            " 0 1 0 0 0 0 0 0 1 1 0 0 0 0 0 1 0 0 0 0 1 1 0 0 0 0 0 0 0 1 0 0 0 1 1 0 0\n",
            " 0 0 0 0 1 1 1 0 0 0 0 0 0 1 1 0 0 1 1 0 1 1 0 0 0 0 0 0 0 0 0 0 0 0 0 0 0\n",
            " 0 0 0 0 0 0 0 0 0 0 0 1 0 0 0 0 1 0 0 1 1 0 0 0 0 0 1 1 1 1 0 0 1 1 0 0 0\n",
            " 1 1 0 1 0 1 0 1 0 1 1 0 0 1 1 1 0 0 0 0 0 0 1 0 0 0 1 1 0 0 0 1 0 0 1 1 0\n",
            " 0 1 0 0 0 0 0 1 0 0 0 1 0 0 1 0 1 1 0 0 0 0 0 0 0 0 1 1 0 0 0 1 1 1 1 0 0\n",
            " 0 0 0 1 0 0 1 0 0 1 0 1 0 1 0 0 0 1 0 0 0 1 1 1 0 0 1 0 0 0 0 0 0 0 0 0 0\n",
            " 1 0 0 0 0 0 0 0 0 0 0 0 1 0 0 1 1 0 1 1 0 0 0 0 0 1 0 0 1 1 0 1 1 0 1 1 0\n",
            " 1 0 0 0 1 1 1 0 0 0 1 0 1 0 0 1 0 0 0 1 1 0 0 0 1 1 0 0 0 0 0 1 1 0 0 1 0\n",
            " 1 0 0 0 1 1 0 0 0 0 0 0 0 0 0 0 0 1 0 0 1 1 0 0 1 0 1 0 0 0 1 0 1 0 0 0 0\n",
            " 0 1 1 1 0 0 1 0 0 0 0 0 0 0 0 0 1 1 1 0 1 0 0 0 0 0 0 0 0 0 0 0 0 0 1 1 1\n",
            " 0 0 0 0 0 0 0 1 1 1 0 0 0 0 0 0 1 0 0 0 0 0 1 0 0 0 0 0 0 1 0]\n"
          ],
          "name": "stdout"
        }
      ]
    },
    {
      "cell_type": "code",
      "metadata": {
        "colab": {
          "base_uri": "https://localhost:8080/"
        },
        "id": "VM9b8FkFWbB_",
        "outputId": "e6a9a8d9-f1e2-4a40-baf1-fa2269e6078f"
      },
      "source": [
        "print(y_test)"
      ],
      "execution_count": 70,
      "outputs": [
        {
          "output_type": "stream",
          "text": [
            "[0 0 0 0 1 1 0 0 0 0 0 0 1 0 1 0 0 0 0 1 0 0 0 1 0 1 0 1 1 0 0 1 0 1 0 0 1\n",
            " 0 1 0 0 0 0 0 0 1 1 0 1 0 1 0 0 1 1 0 0 0 0 0 0 0 0 0 0 0 1 1 0 1 1 0 0 0\n",
            " 1 0 1 0 0 1 0 0 0 0 0 1 1 0 0 1 0 0 1 0 0 0 0 0 0 0 1 0 1 0 0 1 0 1 1 0 1\n",
            " 0 0 0 0 0 0 1 0 0 0 0 1 0 0 0 0 0 0 0 0 0 0 1 0 0 0 0 1 1 1 0 0 0 1 1 1 0\n",
            " 1 1 0 0 1 0 1 0 0 0 0 0 0 0 0 0 0 0 0 1 1 0 0 0 1 0 1 0 0 0 1 0 0 0 0 0 1\n",
            " 0 1 0 0 0 0 0 0 0 0 0 1 0 0 0 0 0 0 1 0 0 0 0 0 0 0 0 1 0 1 1 0 1 0 0 0 0\n",
            " 0 1 0 1 1 0 0 0 0 1 0 0 0 0 0 1 0 0 0 1 0 0 0 0 0 0 1 0 0 0 0 1 0 0 0 1]\n"
          ],
          "name": "stdout"
        }
      ]
    },
    {
      "cell_type": "code",
      "metadata": {
        "id": "TWkOG_FMg5Xg"
      },
      "source": [
        "from sklearn.preprocessing import StandardScaler\n",
        "sc = StandardScaler()\n",
        "x_train = sc.fit_transform(x_train)\n",
        "x_test = sc.transform(x_test)"
      ],
      "execution_count": 71,
      "outputs": []
    },
    {
      "cell_type": "code",
      "metadata": {
        "colab": {
          "base_uri": "https://localhost:8080/"
        },
        "id": "IdcVtWD3hPpf",
        "outputId": "d929be0f-c5cf-41f4-851a-61caabf317f2"
      },
      "source": [
        "print(x_train)"
      ],
      "execution_count": 72,
      "outputs": [
        {
          "output_type": "stream",
          "text": [
            "[[ 2.49251975  1.63434049]\n",
            " [ 0.05950916  1.00390823]\n",
            " [-0.17721619 -1.15119758]\n",
            " ...\n",
            " [-0.90239308 -1.7127543 ]\n",
            " [-0.90711936 -0.59691343]\n",
            " [-0.84978744 -1.2267753 ]]\n"
          ],
          "name": "stdout"
        }
      ]
    },
    {
      "cell_type": "code",
      "metadata": {
        "colab": {
          "base_uri": "https://localhost:8080/"
        },
        "id": "N9j96q3AhTbQ",
        "outputId": "f554ecf9-af10-4817-9d88-94c4f4b8f82a"
      },
      "source": [
        "print(x_test)"
      ],
      "execution_count": 73,
      "outputs": [
        {
          "output_type": "stream",
          "text": [
            "[[-7.29986330e-01  6.08194698e-01]\n",
            " [-2.66604670e-01 -1.06421190e+00]\n",
            " [ 8.93390663e-01  9.03233004e-01]\n",
            " [-5.10522200e-01  7.87870031e-01]\n",
            " [-1.11322660e+00 -8.68850625e-01]\n",
            " [-3.87154184e-02 -2.15245671e-02]\n",
            " [ 1.38369161e+00  1.11912860e+00]\n",
            " [-8.29032876e-01  6.61954698e-01]\n",
            " [-3.27635425e-01 -1.61336246e+00]\n",
            " [ 1.70898348e+00 -2.77989439e-02]\n",
            " [-1.81663426e-02  2.23603924e-01]\n",
            " [-9.14311541e-01 -1.53978114e+00]\n",
            " [-8.69925537e-01 -8.29065373e-01]\n",
            " [-6.40186869e-01 -5.60122770e-01]\n",
            " [ 1.36766333e+00  1.30450792e+00]\n",
            " [-6.95874864e-01  1.09631269e+00]\n",
            " [-7.82386474e-01  9.90931678e-01]\n",
            " [ 8.54745607e-03  7.73610084e-01]\n",
            " [ 2.73499884e+00  1.67027556e+00]\n",
            " [-9.57053619e-01 -8.66141235e-01]\n",
            " [-7.76632733e-01 -1.34898304e+00]\n",
            " [ 9.10240905e-01 -2.94745154e-01]\n",
            " [-9.51710859e-01 -8.22719419e-02]\n",
            " [-1.48858465e-01  1.48389805e+00]\n",
            " [ 8.63799993e-01 -2.70859465e-02]\n",
            " [-1.78654625e-01  8.22236504e-01]\n",
            " [-7.89989632e-01 -9.23038424e-01]\n",
            " [ 9.03870691e-01  9.38597672e-01]\n",
            " [-8.54102749e-01  8.11826743e-01]\n",
            " [ 6.53171966e-01 -1.25629339e+00]\n",
            " [-3.21881684e-01  1.09517189e+00]\n",
            " [ 8.68320790e-01  7.28120853e-01]\n",
            " [-4.90589597e-01 -4.07541336e-01]\n",
            " [-8.67665139e-01 -1.58855016e+00]\n",
            " [-7.85468835e-01 -1.06392670e+00]\n",
            " [-8.57596092e-01 -9.36157575e-01]\n",
            " [ 1.03968729e-02 -1.32787832e+00]\n",
            " [-4.43532213e-01  1.42372107e+00]\n",
            " [-8.75062806e-01  1.21452765e+00]\n",
            " [-2.00025664e-01  1.09075131e+00]\n",
            " [-5.98809666e-02 -8.99652111e-01]\n",
            " [-7.39644396e-01 -1.13679503e+00]\n",
            " [-2.15642962e-01  1.52040352e+00]\n",
            " [-7.65741722e-01 -1.62676681e+00]\n",
            " [ 4.76244423e-01  1.47591248e+00]\n",
            " [-8.48965480e-01 -1.40174485e+00]\n",
            " [-8.47116063e-01  6.65234486e-01]\n",
            " [-3.34416620e-01  1.44297200e+00]\n",
            " [-8.61705907e-01 -4.33637039e-01]\n",
            " [-9.13210526e-02  1.52011832e+00]\n",
            " [-4.20928229e-01 -2.91322767e-01]\n",
            " [-2.61056419e-01  3.28842334e-01]\n",
            " [-8.92118539e-01 -1.17857668e+00]\n",
            " [-8.51020387e-01  1.64674665e+00]\n",
            " [-3.94830903e-01  1.30550611e+00]\n",
            " [-7.83413928e-01  1.29737794e+00]\n",
            " [-5.27577933e-01 -7.25751778e-02]\n",
            " [-5.66210196e-01  1.32547004e+00]\n",
            " [-5.55319186e-01  1.46051174e+00]\n",
            " [-4.62231872e-01 -1.21251535e+00]\n",
            " [-8.45266646e-01  1.65302102e+00]\n",
            " [ 4.93711137e-01 -2.71786639e-01]\n",
            " [-4.67163650e-01  1.21381465e+00]\n",
            " [-9.26230005e-01 -7.07213847e-02]\n",
            " [ 6.14334212e-01 -9.20614233e-01]\n",
            " [-8.77117714e-01  1.64332426e+00]\n",
            " [-9.17599393e-01  1.59612383e+00]\n",
            " [-3.29895823e-01 -2.32357608e-02]\n",
            " [-4.38805925e-01  1.49594798e-01]\n",
            " [-5.23262627e-01  9.20202341e-01]\n",
            " [-3.97913264e-01 -9.00935506e-01]\n",
            " [-8.76501241e-01 -4.46043193e-01]\n",
            " [-1.12678899e+00  1.31919566e+00]\n",
            " [-8.81844001e-01  1.46978070e+00]\n",
            " [-1.39816872e-01  4.61459842e-01]\n",
            " [-2.84408805e-02  1.80160967e+00]\n",
            " [-7.27725932e-01  1.01075300e+00]\n",
            " [-8.53897258e-01  8.60167963e-01]\n",
            " [-3.46129593e-01  2.20324136e-01]\n",
            " [-7.99647698e-01  4.08983236e-01]\n",
            " [-8.02113587e-01  1.39420298e+00]\n",
            " [-4.54217732e-01  5.13793848e-01]\n",
            " [-7.12725107e-01 -1.10371195e+00]\n",
            " [-8.76090260e-01  1.52282771e+00]\n",
            " [ 8.01330803e-01  1.66371598e+00]\n",
            " [-7.71289973e-01  8.23092101e-01]\n",
            " [-8.53897258e-01  1.61794155e+00]\n",
            " [ 8.15098684e-01 -6.37982081e-01]\n",
            " [-8.00190609e-02  1.92089441e-01]\n",
            " [-8.10127726e-01 -8.73556408e-01]\n",
            " [-4.25449026e-01 -2.94317356e-01]\n",
            " [-6.37515489e-01  4.60176447e-01]\n",
            " [-3.01743589e-01 -1.05152055e+00]\n",
            " [-6.42652758e-01 -1.05922092e+00]\n",
            " [-8.70952991e-01  5.46734326e-01]\n",
            " [-7.92455521e-01 -1.36409859e+00]\n",
            " [-1.64270272e-01 -1.44680628e+00]\n",
            " [-7.54850712e-01 -1.47190379e+00]\n",
            " [-8.22662663e-01 -1.15205317e+00]\n",
            " [-1.57694568e-01  1.76253742e+00]\n",
            " [ 1.89379324e-01 -1.22627592e-01]\n",
            " [-4.74355827e-01 -1.35112204e+00]\n",
            " [-8.55541184e-01 -1.21280055e+00]\n",
            " [ 8.75923948e-01 -1.26413636e+00]\n",
            " [ 1.13545878e+00  1.79305370e+00]\n",
            " [-8.26156005e-01 -7.22258369e-01]\n",
            " [-2.66810160e-01  3.48521061e-01]\n",
            " [ 1.39417164e+00 -3.41660380e-01]\n",
            " [ 1.90111734e+00  1.06822059e+00]\n",
            " [ 8.97500478e-01 -7.13559801e-01]\n",
            " [-6.91148577e-01  4.08555438e-01]\n",
            " [ 9.44298000e-04  7.50223771e-01]\n",
            " [ 4.70079700e-01  1.49373741e+00]\n",
            " [-7.89373160e-01  1.77080819e+00]\n",
            " [-6.62379871e-01  6.63095494e-01]\n",
            " [-7.79304112e-01 -9.69953650e-01]\n",
            " [-6.35049600e-01 -1.13807843e+00]\n",
            " [-5.59018019e-01 -1.16374633e+00]\n",
            " [-7.18684339e-01 -2.42838946e-01]\n",
            " [-3.89693634e-01 -4.09395129e-01]\n",
            " [-7.44781665e-01  9.16994130e-02]\n",
            " [-7.67312088e-02  7.11721914e-01]\n",
            " [ 2.70540817e+00  1.18686335e+00]\n",
            " [-2.53042280e-01  1.58885126e+00]\n",
            " [ 3.30008563e-02  1.25973168e+00]\n",
            " [ 6.33650344e-01 -7.65679630e-02]\n",
            " [-8.95817373e-01  7.99135390e-01]\n",
            " [ 2.21777860e+00 -1.20937816e+00]\n",
            " [-3.83734402e-01  1.23762876e+00]\n",
            " [ 1.35759429e+00  1.46963810e+00]\n",
            " [ 2.52930259e+00  1.11071523e+00]\n",
            " [-4.30586295e-01 -9.26460811e-01]\n",
            " [ 7.61054614e-01  5.64559260e-01]\n",
            " [-4.22777646e-01 -1.26784395e+00]\n",
            " [ 7.74822495e-01  1.05481624e+00]\n",
            " [-9.12256633e-01  6.69797669e-01]\n",
            " [ 1.78090525e+00 -1.21650814e+00]\n",
            " [-1.93655450e-01  5.47162124e-01]\n",
            " [ 8.52703492e-01  1.32960542e+00]\n",
            " [-4.38526874e-02  5.64131461e-01]\n",
            " [-7.96976318e-01 -9.38581766e-01]\n",
            " [ 1.22649118e+00  1.40389975e+00]\n",
            " [ 2.01228784e+00  1.13239035e+00]\n",
            " [ 1.82200340e+00  5.51012310e-01]\n",
            " [-1.57489077e-01 -1.00289413e+00]\n",
            " [-3.88049708e-01  3.62210610e-01]\n",
            " [ 1.16093963e+00 -5.81370091e-01]\n",
            " [-6.15733469e-01 -1.29764723e+00]\n",
            " [-1.02055026e+00  6.11331886e-01]\n",
            " [-8.17114412e-01 -9.44713544e-01]\n",
            " [ 2.03352695e-01  1.34101338e+00]\n",
            " [-3.87154184e-02  1.28967757e+00]\n",
            " [-3.09067696e-02 -1.62698044e-01]\n",
            " [-4.42504759e-01  3.19573368e-01]\n",
            " [-3.19342234e-02 -1.14406760e+00]\n",
            " [-3.97502283e-01 -1.13422824e+00]\n",
            " [ 2.55547348e-01  1.29837614e+00]\n",
            " [-2.00231155e-01 -1.51810602e+00]\n",
            " [ 1.95146258e+00  1.47206229e+00]\n",
            " [-8.83076946e-01 -1.02271545e+00]\n",
            " [-3.34622111e-01  1.48289985e+00]\n",
            " [ 2.36429351e+00 -1.58420059e-01]\n",
            " [ 1.98494478e-02 -2.48828124e-01]\n",
            " [-2.19341795e-01 -1.04232260e-01]\n",
            " [-7.31424766e-01  1.65672861e+00]\n",
            " [-4.99014718e-01 -4.06328963e-02]\n",
            " [-8.28959315e-02 -2.13819677e-02]\n",
            " [ 2.12407482e+00  1.20361907e-01]\n",
            " [-5.13810052e-01  2.86632890e-01]\n",
            " [ 6.37349177e-01 -8.35054550e-01]\n",
            " [ 3.81513183e-01  7.74750880e-01]\n",
            " [-7.63686815e-01 -7.96980492e-01]\n",
            " [ 8.50237603e-01 -1.56730284e+00]\n",
            " [-9.09585253e-01  1.49388001e+00]\n",
            " [-1.11459147e-01  7.62344726e-01]\n",
            " [ 6.50089604e-01 -9.82074605e-01]\n",
            " [-9.27051968e-01 -1.16403153e+00]\n",
            " [-5.41272253e-02 -1.81806373e-01]\n",
            " [ 3.56032329e-01 -3.23265048e-01]\n",
            " [-4.58944020e-01 -1.04374860e-01]\n",
            " [ 2.00270334e-01  3.90730504e-01]\n",
            " [ 2.64478840e+00 -8.01971473e-01]\n",
            " [ 1.12169090e+00  1.02102017e+00]\n",
            " [-6.16144450e-01  1.36953327e+00]\n",
            " [-3.11196164e-01 -5.28750886e-01]\n",
            " [-8.29238367e-01 -5.15916934e-01]\n",
            " [ 6.11530903e-02  4.21531990e-01]\n",
            " [-6.42858249e-01  1.59926102e+00]\n",
            " [-9.25202551e-01  4.80639748e-02]\n",
            " [-6.26829970e-01  1.14372729e-01]\n",
            " [-3.87154184e-02  1.53822845e+00]\n",
            " [-3.28662879e-01  1.03962968e-01]\n",
            " [ 3.34044818e-01  6.94324778e-01]\n",
            " [ 2.61725264e+00  9.99345047e-01]\n",
            " [-7.92661012e-01 -1.29522304e+00]\n",
            " [ 1.56089821e-01 -3.84155022e-01]\n",
            " [ 6.69068315e-02 -1.30506241e+00]\n",
            " [ 1.47924482e+00 -9.89774977e-01]\n",
            " [-7.65330741e-01 -2.91893165e-01]\n",
            " [-8.20196773e-01 -1.00260893e+00]\n",
            " [ 5.68377843e-02  4.37075332e-01]\n",
            " [-5.72785900e-01 -1.43397233e+00]\n",
            " [-4.99836681e-01 -1.40260045e+00]\n",
            " [ 2.14195251e+00  7.64483718e-01]\n",
            " [-4.04283478e-01 -5.84507279e-01]\n",
            " [-2.47288538e-01  1.06508340e+00]\n",
            " [-3.85172837e-01  1.18672075e+00]\n",
            " [-3.54760205e-01 -2.35423774e-01]\n",
            " [ 2.56916780e+00  8.08832154e-01]\n",
            " [-2.83660403e-01 -1.69407376e+00]\n",
            " [-7.53823258e-01  8.37494647e-01]\n",
            " [-7.84030400e-01  6.88193001e-01]\n",
            " [-9.07530346e-01 -1.33671949e+00]\n",
            " [-6.86216799e-01 -2.40129556e-01]\n",
            " [ 1.45376396e+00  1.49530601e+00]\n",
            " [-2.32287713e-01 -1.41015822e+00]\n",
            " [-9.16982921e-01 -1.86369556e-01]\n",
            " [-5.37646980e-01 -1.34784225e+00]\n",
            " [-8.84515381e-01 -4.01979956e-01]\n",
            " [ 1.09785397e+00  1.31634367e+00]\n",
            " [-3.36060546e-01 -1.62733721e+00]\n",
            " [ 2.32627772e+00 -6.62081392e-01]\n",
            " [-1.01191965e+00  7.37532418e-01]\n",
            " [-8.42184285e-01  2.07347584e-01]\n",
            " [-9.13695069e-01 -1.26984034e+00]\n",
            " [-8.63144342e-01 -1.56516384e+00]\n",
            " [-6.65256741e-01  1.31199467e-01]\n",
            " [-2.38863417e-01 -1.12766867e+00]\n",
            " [ 1.68432459e+00 -2.45120538e-01]\n",
            " [-1.57283586e-01 -1.24702442e+00]\n",
            " [-7.41082831e-01  8.84837672e-01]\n",
            " [-5.48332500e-01  1.26993060e-02]\n",
            " [-4.06749367e-01 -1.71254012e-01]\n",
            " [ 2.50423272e+00 -1.13216027e-01]\n",
            " [-3.73665355e-01  6.45413160e-01]\n",
            " [ 2.65095312e+00 -1.16702612e+00]\n",
            " [-7.32246729e-01  1.13053656e+00]\n",
            " [ 1.61836206e+00  1.47120670e+00]\n",
            " [-8.09511254e-01 -9.94338160e-01]\n",
            " [ 1.37074569e+00 -1.53393456e+00]\n",
            " [ 9.64975008e-02 -1.52224140e+00]\n",
            " [-8.97461299e-01  1.82528118e+00]\n",
            " [-7.49918934e-01 -1.58298878e+00]\n",
            " [-8.12799106e-01 -1.11740150e+00]\n",
            " [-5.83265929e-01 -6.92312480e-01]\n",
            " [-1.68585578e-01  1.20069550e+00]\n",
            " [-6.66695177e-01  5.42884140e-01]\n",
            " [-8.78761640e-01 -1.22492150e+00]\n",
            " [ 7.13586249e-01 -3.00876931e-01]\n",
            " [ 2.06941427e+00 -3.92568391e-01]\n",
            " [-4.98809227e-01 -1.25386920e+00]\n",
            " [ 2.70869602e+00 -1.44181530e+00]\n",
            " [ 6.96325025e-01 -2.53533907e-01]\n",
            " [-7.32378659e-02  9.87366692e-01]\n",
            " [-1.58927512e-01  1.47006590e+00]\n",
            " [-8.48554498e-01 -1.23732766e+00]\n",
            " [-7.95948864e-01 -8.78119591e-01]\n",
            " [-7.46763012e-02  9.42020060e-01]]\n"
          ],
          "name": "stdout"
        }
      ]
    },
    {
      "cell_type": "code",
      "metadata": {
        "colab": {
          "base_uri": "https://localhost:8080/"
        },
        "id": "_vJYi4vEhXC6",
        "outputId": "3e48125d-8df9-4b14-9981-d6b1f55b4005"
      },
      "source": [
        "from sklearn.naive_bayes import GaussianNB\n",
        "classifer = GaussianNB()\n",
        "classifer.fit(x_train,y_train)"
      ],
      "execution_count": 74,
      "outputs": [
        {
          "output_type": "execute_result",
          "data": {
            "text/plain": [
              "GaussianNB(priors=None, var_smoothing=1e-09)"
            ]
          },
          "metadata": {
            "tags": []
          },
          "execution_count": 74
        }
      ]
    },
    {
      "cell_type": "code",
      "metadata": {
        "id": "XxyjVf0AhkFy"
      },
      "source": [
        "y_pred = classifer.predict(x_test)"
      ],
      "execution_count": 75,
      "outputs": []
    },
    {
      "cell_type": "code",
      "metadata": {
        "colab": {
          "base_uri": "https://localhost:8080/"
        },
        "id": "qAcAe1gzho96",
        "outputId": "2abc5c42-e58e-44ba-94e7-4739bcba9a53"
      },
      "source": [
        "from sklearn.metrics import confusion_matrix\n",
        "cm = confusion_matrix(y_test,y_pred)\n",
        "print(cm)"
      ],
      "execution_count": 76,
      "outputs": [
        {
          "output_type": "stream",
          "text": [
            "[[187   0]\n",
            " [ 71   0]]\n"
          ],
          "name": "stdout"
        }
      ]
    },
    {
      "cell_type": "code",
      "metadata": {
        "colab": {
          "base_uri": "https://localhost:8080/",
          "height": 352
        },
        "id": "ZjQdym2EiJkO",
        "outputId": "dd6da13a-9621-4510-ba12-407efc3f4e0e"
      },
      "source": [
        "from matplotlib.colors import ListedColormap\n",
        "x_set, y_set = x_train, y_train\n",
        "x1, x2 = np.meshgrid(np.arange(start = x_set[:, 0].min()-1, stop = x_set[:, 0].max() + 1, step=0.01),\n",
        "                     np.arange(start = x_set[:, 1].min()-1, stop = x_set[:, 1].max() + 1, step=0.01))\n",
        "plt.contourf(x1,x2, classifer.predict(np.array([x1.ravel(), x2.ravel()]).T).reshape(x1.shape),\n",
        "             alpha = 0.75, cmap = ListedColormap(('blue', 'red')))\n",
        "plt.xlim(x1.min(), x1.max())\n",
        "plt.ylim(x2.min(), x2.max())\n",
        "for i, j in enumerate (np.unique(y_set)):\n",
        "  plt.scatter(x_set[y_set == j, 0], x_set[y_set == j, 1],\n",
        "              c = ListedColormap(('blue', 'red'))(i), label = j)\n",
        "plt.title('Klasifikasi Data dengan Naive Bayes (Data Training)')\n",
        "plt.xlabel('Pemasukan')\n",
        "plt.ylabel('Pengeluaran')\n",
        "plt.legend()\n",
        "plt.show()"
      ],
      "execution_count": 78,
      "outputs": [
        {
          "output_type": "stream",
          "text": [
            "*c* argument looks like a single numeric RGB or RGBA sequence, which should be avoided as value-mapping will have precedence in case its length matches with *x* & *y*.  Please use the *color* keyword-argument or provide a 2-D array with a single row if you intend to specify the same RGB or RGBA value for all points.\n",
            "*c* argument looks like a single numeric RGB or RGBA sequence, which should be avoided as value-mapping will have precedence in case its length matches with *x* & *y*.  Please use the *color* keyword-argument or provide a 2-D array with a single row if you intend to specify the same RGB or RGBA value for all points.\n"
          ],
          "name": "stderr"
        },
        {
          "output_type": "display_data",
          "data": {
            "image/png": "[encoded data removed]",
            "text/plain": [
              "<Figure size 432x288 with 1 Axes>"
            ]
          },
          "metadata": {
            "tags": [],
            "needs_background": "light"
          }
        }
      ]
    },
    {
      "cell_type": "code",
      "metadata": {
        "colab": {
          "base_uri": "https://localhost:8080/",
          "height": 352
        },
        "id": "3EbveDeijEtF",
        "outputId": "1a4e95ba-d042-4d0b-f968-3e82073e9454"
      },
      "source": [
        "from matplotlib.colors import ListedColormap\n",
        "x_set, y_set = x_test, y_test\n",
        "x1, x2 = np.meshgrid(np.arange(start = x_set[:, 0].min()-1, stop = x_set[:, 0].max() + 1, step=0.01),\n",
        "                     np.arange(start = x_set[:, 1].min()-1, stop = x_set[:, 1].max() + 1, step=0.01))\n",
        "plt.contourf(x1,x2, classifer.predict(np.array([x1.ravel(), x2.ravel()]).T).reshape(x1.shape),\n",
        "             alpha = 0.75, cmap = ListedColormap(('blue', 'red')))\n",
        "plt.xlim(x1.min(), x1.max())\n",
        "plt.ylim(x2.min(), x2.max())\n",
        "for i, j in enumerate (np.unique(y_set)):\n",
        "  plt.scatter(x_set[y_set == j, 0], x_set[y_set == j, 1],\n",
        "              c = ListedColormap(('blue', 'red'))(i), label = j)\n",
        "plt.title('Klasifikasi Data dengan Naive Bayes (Data Test)')\n",
        "plt.xlabel('Pemasukan')\n",
        "plt.ylabel('Pengeluaran')\n",
        "plt.legend()\n",
        "plt.show()"
      ],
      "execution_count": 79,
      "outputs": [
        {
          "output_type": "stream",
          "text": [
            "*c* argument looks like a single numeric RGB or RGBA sequence, which should be avoided as value-mapping will have precedence in case its length matches with *x* & *y*.  Please use the *color* keyword-argument or provide a 2-D array with a single row if you intend to specify the same RGB or RGBA value for all points.\n",
            "*c* argument looks like a single numeric RGB or RGBA sequence, which should be avoided as value-mapping will have precedence in case its length matches with *x* & *y*.  Please use the *color* keyword-argument or provide a 2-D array with a single row if you intend to specify the same RGB or RGBA value for all points.\n"
          ],
          "name": "stderr"
        },
        {
          "output_type": "display_data",
          "data": {
            "image/png": "[encoded data removed]",
            "text/plain": [
              "<Figure size 432x288 with 1 Axes>"
            ]
          },
          "metadata": {
            "tags": [],
            "needs_background": "light"
          }
        }
      ]
    }
  ]
}